{
 "cells": [
  {
   "cell_type": "markdown",
   "id": "8a98086c",
   "metadata": {},
   "source": [
    "# This is part 1 of this project...\n"
   ]
  },
  {
   "cell_type": "markdown",
   "id": "cb4f509f",
   "metadata": {},
   "source": [
    "Extract the dataset."
   ]
  },
  {
   "cell_type": "code",
   "execution_count": 2,
   "id": "6d3cbd82",
   "metadata": {},
   "outputs": [
    {
     "name": "stdout",
     "output_type": "stream",
     "text": [
      "Unzipped dataset.zip to the 'dataset' folder.\n"
     ]
    }
   ],
   "source": [
    "import zipfile\n",
    "\n",
    "with zipfile.ZipFile(\"dataset.zip\", \"r\") as zip_ref:\n",
    "    zip_ref.extractall(\"dataset\")\n",
    "print(\"Unzipped dataset.zip to the 'dataset' folder.\")\n"
   ]
  },
  {
   "cell_type": "markdown",
   "id": "59b8d102",
   "metadata": {},
   "source": [
    "Stuff we'll actually use."
   ]
  },
  {
   "cell_type": "code",
   "execution_count": 3,
   "id": "d3d2a3a0",
   "metadata": {},
   "outputs": [],
   "source": [
    "import numpy as np\n",
    "import pandas as pd\n"
   ]
  }
 ],
 "metadata": {
  "kernelspec": {
   "display_name": "Python 3",
   "language": "python",
   "name": "python3"
  },
  "language_info": {
   "codemirror_mode": {
    "name": "ipython",
    "version": 3
   },
   "file_extension": ".py",
   "mimetype": "text/x-python",
   "name": "python",
   "nbconvert_exporter": "python",
   "pygments_lexer": "ipython3",
   "version": "3.11.9"
  }
 },
 "nbformat": 4,
 "nbformat_minor": 5
}
