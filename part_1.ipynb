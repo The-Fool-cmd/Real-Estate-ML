{
 "cells": [
  {
   "cell_type": "markdown",
   "id": "8a98086c",
   "metadata": {},
   "source": [
    "# This is part 1 of this project...\n"
   ]
  },
  {
   "cell_type": "code",
   "execution_count": 1,
   "id": "11a45e6a",
   "metadata": {},
   "outputs": [],
   "source": [
    "# .bat or .bash to unzip the dataset"
   ]
  }
 ],
 "metadata": {
  "kernelspec": {
   "display_name": "Python 3",
   "language": "python",
   "name": "python3"
  },
  "language_info": {
   "codemirror_mode": {
    "name": "ipython",
    "version": 3
   },
   "file_extension": ".py",
   "mimetype": "text/x-python",
   "name": "python",
   "nbconvert_exporter": "python",
   "pygments_lexer": "ipython3",
   "version": "3.11.9"
  }
 },
 "nbformat": 4,
 "nbformat_minor": 5
}
